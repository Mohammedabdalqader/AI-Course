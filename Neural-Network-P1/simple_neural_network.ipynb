{
 "cells": [
  {
   "cell_type": "code",
   "execution_count": 1,
   "metadata": {},
   "outputs": [],
   "source": [
    "import numpy as np"
   ]
  },
  {
   "cell_type": "markdown",
   "metadata": {},
   "source": [
    "#### we try to train a simple neural network to find the parameters of the equation \n",
    "#### Y = 3X - 1"
   ]
  },
  {
   "cell_type": "code",
   "execution_count": 2,
   "metadata": {},
   "outputs": [],
   "source": [
    "np.random.seed(1000)\n",
    "#define some variables\n",
    "features = np.arange(1,11).reshape(1,10)\n",
    "labels = np.arange(2,30,3).reshape(1,10)\n",
    "\n",
    "# initialize weight and bias randomly\n",
    "weight = np.random.rand(1,1)    # the right value of w must be 3\n",
    "bias = np.random.rand(1,1)    # the right value of b must be -1\n",
    "learning_rate = 0.01"
   ]
  },
  {
   "cell_type": "code",
   "execution_count": 3,
   "metadata": {},
   "outputs": [
    {
     "name": "stdout",
     "output_type": "stream",
     "text": [
      "initial_value_of_weight  = [[0.65358959]] but must be  3 \n",
      "\n",
      "initial_value_of_bias  = [[0.11500694]] but must be -1 \n"
     ]
    }
   ],
   "source": [
    "print(\"initial_value_of_weight  = {} but must be  3 \".format(weight))\n",
    "print(\"\\ninitial_value_of_bias  = {} but must be -1 \".format(bias))"
   ]
  },
  {
   "cell_type": "markdown",
   "metadata": {},
   "source": [
    "#### Create our neural network class"
   ]
  },
  {
   "cell_type": "code",
   "execution_count": 4,
   "metadata": {},
   "outputs": [],
   "source": [
    "class Neural_Network():\n",
    "    def __init__(self,features,labels,weight,bias,learning_rate):\n",
    "        self.features = features\n",
    "        self.labels = labels\n",
    "        self.weight = weight\n",
    "        self.bias = bias\n",
    "        self.learning_rate = learning_rate\n",
    "      \n",
    "    def least_square_error(self,labels,y_pred):\n",
    "        self.y_pred = y_pred\n",
    "        self.labels = labels\n",
    "        loss = np.mean(np.square(self.labels - self.y_pred))\n",
    "        return loss\n",
    "        \n",
    "    def forward_propagation(self):\n",
    "        y_pred = np.add(np.dot(self.weight,self.features),self.bias)   #### np.add(a,b) same as  a + b\n",
    "        return y_pred\n",
    "    \n",
    "    def backward_propagation(self,y_pred):\n",
    "        dy_pred = -2 * (self.labels - y_pred)\n",
    "        dweight = np.mean(np.multiply(self.features,dy_pred))\n",
    "        dbias   = np.mean(dy_pred)\n",
    "        \n",
    "        ###### optimization ######\n",
    "        self.weight -= self.learning_rate * dweight\n",
    "        self.bias   -= self.learning_rate * dbias\n",
    "        \n",
    "        \n",
    "        "
   ]
  },
  {
   "cell_type": "code",
   "execution_count": 5,
   "metadata": {},
   "outputs": [],
   "source": [
    "my_neural_network = Neural_Network(features,labels,weight,bias,learning_rate)"
   ]
  },
  {
   "cell_type": "code",
   "execution_count": 6,
   "metadata": {},
   "outputs": [
    {
     "name": "stdout",
     "output_type": "stream",
     "text": [
      "184.431548130771\n",
      "9.591995874453377e-05\n",
      "2.121068116516999e-08\n",
      "4.690295966620927e-12\n",
      "1.0371603022050406e-15\n",
      "2.293460676169415e-19\n",
      "5.0716393944376336e-23\n",
      "1.1245133317835001e-26\n",
      "6.350330287029145e-29\n",
      "6.350330287029145e-29\n"
     ]
    }
   ],
   "source": [
    "for epochs in range(10000):\n",
    "        y_pred = my_neural_network.forward_propagation()\n",
    "        loss   = my_neural_network.least_square_error(labels,y_pred)\n",
    "        my_neural_network.backward_propagation(y_pred)\n",
    "        if (epochs % 1000 == 0):\n",
    "            print(loss)"
   ]
  },
  {
   "cell_type": "code",
   "execution_count": 7,
   "metadata": {},
   "outputs": [
    {
     "name": "stdout",
     "output_type": "stream",
     "text": [
      "the value of weight after trainig =  [[3.]]\n"
     ]
    }
   ],
   "source": [
    "print(\"the value of weight after trainig = \", my_neural_network.weight)"
   ]
  },
  {
   "cell_type": "code",
   "execution_count": 8,
   "metadata": {},
   "outputs": [
    {
     "name": "stdout",
     "output_type": "stream",
     "text": [
      "the value of bias after trainig =  [[-1.]]\n"
     ]
    }
   ],
   "source": [
    "print(\"the value of bias after trainig = \", my_neural_network.bias)"
   ]
  },
  {
   "cell_type": "markdown",
   "metadata": {},
   "source": [
    "##### and that's it .... you have trained a simple neural network with single neuron :D"
   ]
  },
  {
   "cell_type": "code",
   "execution_count": null,
   "metadata": {},
   "outputs": [],
   "source": []
  },
  {
   "cell_type": "code",
   "execution_count": null,
   "metadata": {},
   "outputs": [],
   "source": []
  },
  {
   "cell_type": "code",
   "execution_count": null,
   "metadata": {},
   "outputs": [],
   "source": []
  }
 ],
 "metadata": {
  "kernelspec": {
   "display_name": "Python 3",
   "language": "python",
   "name": "python3"
  },
  "language_info": {
   "codemirror_mode": {
    "name": "ipython",
    "version": 3
   },
   "file_extension": ".py",
   "mimetype": "text/x-python",
   "name": "python",
   "nbconvert_exporter": "python",
   "pygments_lexer": "ipython3",
   "version": "3.7.1"
  }
 },
 "nbformat": 4,
 "nbformat_minor": 2
}
